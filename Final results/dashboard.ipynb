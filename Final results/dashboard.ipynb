{
 "cells": [
  {
   "cell_type": "code",
   "execution_count": null,
   "metadata": {},
   "outputs": [],
   "source": [
    "import json\n",
    "from kafka import KafkaProducer, KafkaConsumer\n",
    "import streamlit as st\n",
    "from src.environment import KAFKA_BROKER, KAFKA_TOPIC\n",
    "import src.weather_api\n",
    "from src.weather_api import fetch_realtime_weather, fetch_forecast, fetch_history\n"
   ]
  },
  {
   "cell_type": "code",
   "execution_count": null,
   "metadata": {},
   "outputs": [],
   "source": [
    "def main():\n",
    "    st.title(\"Real-time Weather Dashboard\")\n",
    "\n",
    "    cities = ['New York', 'London', 'Tokyo']  # Add more cities if needed\n",
    "\n",
    "    selected_city = st.selectbox(\"Select a city:\", cities)\n",
    "\n",
    "    # Use the weather_api module to fetch weather data\n",
    "    realtime_weather = src.weather_api.fetch_realtime_weather(selected_city)\n",
    "    forecast = src.weather_api.fetch_forecast(selected_city)\n",
    "    history = src.weather_api.fetch_history(selected_city, '2023-01-06')\n",
    "    # Provide a date for history data\n",
    "\n",
    "    if realtime_weather and forecast and history:\n",
    "        st.subheader(f\"Real-time Weather Data for {selected_city}\")\n",
    "        st.json(realtime_weather)\n",
    "\n",
    "        st.subheader(f\"Forecast for {selected_city}\")\n",
    "        st.json(forecast)\n",
    "\n",
    "        st.subheader(f\"History for {selected_city}\")\n",
    "        st.json(history)\n"
   ]
  },
  {
   "cell_type": "code",
   "execution_count": null,
   "metadata": {},
   "outputs": [],
   "source": [
    "if __name__ == \"__main__\":\n",
    "    main()"
   ]
  }
 ],
 "metadata": {
  "language_info": {
   "name": "python"
  }
 },
 "nbformat": 4,
 "nbformat_minor": 2
}
