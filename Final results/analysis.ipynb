{
 "cells": [
  {
   "cell_type": "code",
   "execution_count": null,
   "metadata": {},
   "outputs": [],
   "source": [
    "import time\n",
    "import json\n",
    "import pandas as pd\n",
    "import matplotlib.pyplot as plt\n",
    "import geopandas as gpd\n",
    "from pykafka import KafkaClient\n",
    "from kafka import KafkaConsumer, KafkaProducer\n",
    "from river import linear_model\n",
    "from sklearn.linear_model import LinearRegression\n",
    "from src.environment import KAFKA_BROKER, KAFKA_TOPIC\n",
    "from src.weather_api import fetch_history"
   ]
  },
  {
   "cell_type": "code",
   "execution_count": null,
   "metadata": {},
   "outputs": [],
   "source": [
    "# Kafka setup\n",
    "kafka_host = KAFKA_BROKER\n",
    "kafka_topic_realtime = 'weather_realtime'\n",
    "kafka_topic_forecast = 'weather_forecast'\n",
    "kafka_topic_history = 'weather_history'\n",
    "\n",
    "client = KafkaClient(hosts=kafka_host)\n",
    "topic_realtime = client.topics[kafka_topic_realtime]\n",
    "topic_forecast = client.topics[kafka_topic_forecast]\n",
    "topic_history = client.topics[kafka_topic_history]\n",
    "\n",
    "# Batch regression model using scikit-learn\n",
    "batch_model = LinearRegression()\n",
    "\n",
    "# WeatherAPI.com API key\n",
    "api_key = 'YOUR_WEATHERAPI.COM_API_KEY'"
   ]
  },
  {
   "cell_type": "code",
   "execution_count": null,
   "metadata": {},
   "outputs": [],
   "source": [
    "# Create a consumer instance for the weather topic\n",
    "consumer = KafkaConsumer(\n",
    "    kafka_topic_realtime, # The topic name\n",
    "    bootstrap_servers=[kafka_host], # The bootstrap server URL\n",
    "    auto_offset_reset=\"earliest\", # Start from the beginning of the topic\n",
    "    enable_auto_commit=True, # Commit the offsets automatically\n",
    "    group_id=\"weather-group\", # The consumer group id\n",
    "    value_deserializer=lambda v: json.loads(v.decode(\"utf-8\")) # A function to deserialize the messages as JSON\n",
    ")\n",
    "\n",
    "# Create an empty list to store the data\n",
    "online_data = []\n",
    "\n",
    "# Consume the messages from the topic\n",
    "for message in consumer:\n",
    "    # Append the message value to the data list\n",
    "    online_data.append(message.value)\n",
    "\n",
    "# Create the online_model instance using the data\n",
    "online_model = linear_model.LinearRegression().learn_many(online_data, x=['realtime', 'forecast'], y='history')\n"
   ]
  },
  {
   "cell_type": "code",
   "execution_count": null,
   "metadata": {},
   "outputs": [],
   "source": [
    "# Define the perform_batch_regression function\n",
    "def perform_batch_regression(X, y):\n",
    "    # Fit the batch_model to the data\n",
    "    batch_model.fit(X, y)\n",
    "\n",
    "    # Print the coefficients and the intercept\n",
    "    print(f\"Coefficients: {batch_model.coef_}\")\n",
    "    print(f\"Intercept: {batch_model.intercept_}\")\n",
    "\n",
    "# Call the perform_batch_regression function\n",
    "perform_batch_regression(X, y)\n"
   ]
  },
  {
   "cell_type": "code",
   "execution_count": null,
   "metadata": {},
   "outputs": [],
   "source": [
    "# Plot temperature analysis for each city\n",
    "def plot_temperature_analysis(cities):\n",
    "    for city in cities:\n",
    "        history_data = fetch_history(city, time.strftime('%Y-%m-%d'))\n",
    "        if history_data:\n",
    "            dates = [day['date'] for day in history_data['forecast']['forecastday']]\n",
    "            max_temps = [day['day']['maxtemp_c'] for day in history_data['forecast']['forecastday']]\n",
    "            min_temps = [day['day']['mintemp_c'] for day in history_data['forecast']['forecastday']]\n",
    "\n",
    "            # Plot temperature analysis\n",
    "            plt.plot(dates, max_temps, label=f'{city} - Max Temperature')\n",
    "            plt.plot(dates, min_temps, label=f'{city} - Min Temperature')\n",
    "\n",
    "    plt.xlabel('Date')\n",
    "    plt.ylabel('Temperature (Celsius)')\n",
    "    plt.title('Temperature Analysis')\n",
    "    plt.legend()\n",
    "    plt.show()"
   ]
  },
  {
   "cell_type": "code",
   "execution_count": null,
   "metadata": {},
   "outputs": [],
   "source": [
    "if __name__ == \"__main__\":\n",
    "    cities = ['New York', 'London', 'Tokyo']  # Add more cities if needed\n",
    "\n",
    "    # Example batch regression with scikit-learn\n",
    "    # Replace X and y with actual features and target variables\n",
    "    X = [[data['realtime']['temp_c']] for data in online_model]\n",
    "    y = [data['timestamp'] for data in online_model]\n",
    "    perform_batch_regression(X, y)\n",
    "\n",
    "    # Perform comparisons and discussions of online vs batch regression\n",
    "    # Add your comparison and discussion code here\n",
    "\n",
    "    # Plot temperature analysis for each city\n",
    "    plot_temperature_analysis(cities)"
   ]
  },
  {
   "cell_type": "code",
   "execution_count": null,
   "metadata": {},
   "outputs": [],
   "source": []
  }
 ],
 "metadata": {
  "language_info": {
   "name": "python"
  }
 },
 "nbformat": 4,
 "nbformat_minor": 2
}
