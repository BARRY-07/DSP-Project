{
 "cells": [
  {
   "cell_type": "code",
   "execution_count": null,
   "metadata": {},
   "outputs": [],
   "source": [
    "import time\n",
    "import json\n",
    "import requests\n",
    "from pykafka import KafkaClient\n",
    "\n",
    "from src.producer import (\n",
    "    fetch_weather_data,\n",
    "    produce_weather_data\n",
    ")"
   ]
  },
  {
   "cell_type": "code",
   "execution_count": null,
   "metadata": {},
   "outputs": [],
   "source": [
    "if __name__ == \"__main__\":\n",
    "    # Replace 'YOUR_OPENWEATHERMAP_API_KEY' with your actual API key\n",
    "    api_key = 'YOUR_OPENWEATHERMAP_API_KEY'\n",
    "    cities = ['New York', 'London', 'Tokyo']  # Add more cities if needed\n",
    "\n",
    "    produce_weather_data(api_key, cities)"
   ]
  }
 ],
 "metadata": {
  "language_info": {
   "name": "python"
  }
 },
 "nbformat": 4,
 "nbformat_minor": 2
}
