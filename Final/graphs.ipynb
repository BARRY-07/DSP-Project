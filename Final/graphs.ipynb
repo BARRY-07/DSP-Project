{
 "cells": [
  {
   "cell_type": "code",
   "execution_count": null,
   "metadata": {},
   "outputs": [],
   "source": [
    "import time\n",
    "import json\n",
    "import requests\n",
    "import pandas as pd\n",
    "import matplotlib.pyplot as plt\n",
    "from pykafka import KafkaClient\n",
    "from river import linear_model\n",
    "from sklearn.linear_model import LinearRegression\n",
    "\n",
    "from src.analysis import (\n",
    "    plot_geospatial_analysis,\n",
    "    produce_weather_data,\n",
    "    perform_batch_regression\n",
    ")\n",
    "\n",
    "# Kafka setup\n",
    "kafka_host = 'localhost:9092'\n",
    "kafka_topic = 'weather_data'\n",
    "client = KafkaClient(hosts=kafka_host)\n",
    "topic = client.topics[kafka_topic]\n",
    "\n",
    "# Online regression model using RIVER\n",
    "online_model = linear_model.LinearRegression()\n",
    "\n",
    "# Batch regression model using scikit-learn\n",
    "batch_model = LinearRegression()\n",
    "\n",
    "# WeatherAPI.com API key\n",
    "api_key = 'YOUR_WEATHERAPI.COM_API_KEY'\n"
   ]
  },
  {
   "cell_type": "code",
   "execution_count": null,
   "metadata": {},
   "outputs": [],
   "source": [
    "if __name__ == \"__main__\":\n",
    "    cities = ['New York', 'London', 'Tokyo']  # Add more cities if needed\n",
    "\n",
    "    # Bonus: Perform geospatial analysis and plotting\n",
    "    plot_geospatial_analysis(cities)\n",
    "\n",
    "    # Produce weather data to Kafka and update online regression model\n",
    "    produce_weather_data(cities)\n",
    "\n",
    "    # Example batch regression with scikit-learn\n",
    "    # Replace X and y with actual features and target variables\n",
    "    X = [[data['temperature']] for data in online_model]\n",
    "    y = [data['timestamp'] for data in online_model]\n",
    "    perform_batch_regression(X, y)\n",
    "\n",
    "    # Perform comparisons and discussions of online vs batch regression\n",
    "    # Add your comparison and discussion code here"
   ]
  },
  {
   "cell_type": "code",
   "execution_count": null,
   "metadata": {},
   "outputs": [],
   "source": []
  }
 ],
 "metadata": {
  "language_info": {
   "name": "python"
  }
 },
 "nbformat": 4,
 "nbformat_minor": 2
}
